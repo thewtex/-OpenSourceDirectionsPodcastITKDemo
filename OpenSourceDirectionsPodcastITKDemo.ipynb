{
 "cells": [
  {
   "cell_type": "code",
   "execution_count": 1,
   "metadata": {},
   "outputs": [
    {
     "name": "stdout",
     "output_type": "stream",
     "text": [
      "Requirement already satisfied: itk>=5.0rc1 in /home/matt/bin/venvs/DemoOpenSourceDirectionsPodcast-9z2RnPy8/lib/python3.6/site-packages (5.0rc1)\n",
      "Requirement already satisfied: itkwidgets>=0.16.1 in /home/matt/bin/venvs/DemoOpenSourceDirectionsPodcast-9z2RnPy8/lib/python3.6/site-packages (0.16.1)\n",
      "Requirement already satisfied: itk-registration>=5.0rc1 in /home/matt/bin/venvs/DemoOpenSourceDirectionsPodcast-9z2RnPy8/lib/python3.6/site-packages (from itk>=5.0rc1) (5.0rc1)\n",
      "Requirement already satisfied: itk-filtering>=5.0rc1 in /home/matt/bin/venvs/DemoOpenSourceDirectionsPodcast-9z2RnPy8/lib/python3.6/site-packages (from itk>=5.0rc1) (5.0rc1)\n",
      "Requirement already satisfied: itk-io>=5.0rc1 in /home/matt/bin/venvs/DemoOpenSourceDirectionsPodcast-9z2RnPy8/lib/python3.6/site-packages (from itk>=5.0rc1) (5.0rc1)\n",
      "Requirement already satisfied: itk-numerics>=5.0rc1 in /home/matt/bin/venvs/DemoOpenSourceDirectionsPodcast-9z2RnPy8/lib/python3.6/site-packages (from itk>=5.0rc1) (5.0rc1)\n",
      "Requirement already satisfied: itk-segmentation>=5.0rc1 in /home/matt/bin/venvs/DemoOpenSourceDirectionsPodcast-9z2RnPy8/lib/python3.6/site-packages (from itk>=5.0rc1) (5.0rc1)\n",
      "Requirement already satisfied: numpy in /home/matt/bin/venvs/DemoOpenSourceDirectionsPodcast-9z2RnPy8/lib/python3.6/site-packages (from itk>=5.0rc1) (1.16.1)\n",
      "Requirement already satisfied: itk-core>=5.0rc1 in /home/matt/bin/venvs/DemoOpenSourceDirectionsPodcast-9z2RnPy8/lib/python3.6/site-packages (from itk>=5.0rc1) (5.0rc1)\n",
      "Requirement already satisfied: ipympl in /home/matt/bin/venvs/DemoOpenSourceDirectionsPodcast-9z2RnPy8/lib/python3.6/site-packages (from itkwidgets>=0.16.1) (0.2.1)\n",
      "Requirement already satisfied: zstandard in /home/matt/bin/venvs/DemoOpenSourceDirectionsPodcast-9z2RnPy8/lib/python3.6/site-packages (from itkwidgets>=0.16.1) (0.10.2)\n",
      "Requirement already satisfied: ipydatawidgets>=3.2.0 in /home/matt/bin/venvs/DemoOpenSourceDirectionsPodcast-9z2RnPy8/lib/python3.6/site-packages (from itkwidgets>=0.16.1) (4.0.0)\n",
      "Requirement already satisfied: ipywidgets>=7.4.0 in /home/matt/bin/venvs/DemoOpenSourceDirectionsPodcast-9z2RnPy8/lib/python3.6/site-packages (from itkwidgets>=0.16.1) (7.4.2)\n",
      "Requirement already satisfied: scipy in /home/matt/bin/venvs/DemoOpenSourceDirectionsPodcast-9z2RnPy8/lib/python3.6/site-packages (from itkwidgets>=0.16.1) (1.2.1)\n",
      "Requirement already satisfied: six in /home/matt/bin/venvs/DemoOpenSourceDirectionsPodcast-9z2RnPy8/lib/python3.6/site-packages (from itkwidgets>=0.16.1) (1.12.0)\n",
      "Requirement already satisfied: matplotlib>=2.0.0 in /home/matt/bin/venvs/DemoOpenSourceDirectionsPodcast-9z2RnPy8/lib/python3.6/site-packages (from ipympl->itkwidgets>=0.16.1) (3.0.2)\n",
      "Requirement already satisfied: ipykernel>=4.7 in /home/matt/bin/venvs/DemoOpenSourceDirectionsPodcast-9z2RnPy8/lib/python3.6/site-packages (from ipympl->itkwidgets>=0.16.1) (5.1.0)\n",
      "Requirement already satisfied: cffi>=1.11 in /home/matt/bin/venvs/DemoOpenSourceDirectionsPodcast-9z2RnPy8/lib/python3.6/site-packages (from zstandard->itkwidgets>=0.16.1) (1.12.1)\n",
      "Requirement already satisfied: traittypes>=0.2.0 in /home/matt/bin/venvs/DemoOpenSourceDirectionsPodcast-9z2RnPy8/lib/python3.6/site-packages (from ipydatawidgets>=3.2.0->itkwidgets>=0.16.1) (0.2.1)\n",
      "Requirement already satisfied: nbformat>=4.2.0 in /home/matt/bin/venvs/DemoOpenSourceDirectionsPodcast-9z2RnPy8/lib/python3.6/site-packages (from ipywidgets>=7.4.0->itkwidgets>=0.16.1) (4.4.0)\n",
      "Requirement already satisfied: ipython>=4.0.0; python_version >= \"3.3\" in /home/matt/bin/venvs/DemoOpenSourceDirectionsPodcast-9z2RnPy8/lib/python3.6/site-packages (from ipywidgets>=7.4.0->itkwidgets>=0.16.1) (7.3.0)\n",
      "Requirement already satisfied: traitlets>=4.3.1 in /home/matt/bin/venvs/DemoOpenSourceDirectionsPodcast-9z2RnPy8/lib/python3.6/site-packages (from ipywidgets>=7.4.0->itkwidgets>=0.16.1) (4.3.2)\n",
      "Requirement already satisfied: widgetsnbextension~=3.4.0 in /home/matt/bin/venvs/DemoOpenSourceDirectionsPodcast-9z2RnPy8/lib/python3.6/site-packages (from ipywidgets>=7.4.0->itkwidgets>=0.16.1) (3.4.2)\n",
      "Requirement already satisfied: kiwisolver>=1.0.1 in /home/matt/bin/venvs/DemoOpenSourceDirectionsPodcast-9z2RnPy8/lib/python3.6/site-packages (from matplotlib>=2.0.0->ipympl->itkwidgets>=0.16.1) (1.0.1)\n",
      "Requirement already satisfied: cycler>=0.10 in /home/matt/bin/venvs/DemoOpenSourceDirectionsPodcast-9z2RnPy8/lib/python3.6/site-packages (from matplotlib>=2.0.0->ipympl->itkwidgets>=0.16.1) (0.10.0)\n",
      "Requirement already satisfied: python-dateutil>=2.1 in /home/matt/bin/venvs/DemoOpenSourceDirectionsPodcast-9z2RnPy8/lib/python3.6/site-packages (from matplotlib>=2.0.0->ipympl->itkwidgets>=0.16.1) (2.8.0)\n",
      "Requirement already satisfied: pyparsing!=2.0.4,!=2.1.2,!=2.1.6,>=2.0.1 in /home/matt/bin/venvs/DemoOpenSourceDirectionsPodcast-9z2RnPy8/lib/python3.6/site-packages (from matplotlib>=2.0.0->ipympl->itkwidgets>=0.16.1) (2.3.1)\n",
      "Requirement already satisfied: tornado>=4.2 in /home/matt/bin/venvs/DemoOpenSourceDirectionsPodcast-9z2RnPy8/lib/python3.6/site-packages (from ipykernel>=4.7->ipympl->itkwidgets>=0.16.1) (5.1.1)\n",
      "Requirement already satisfied: jupyter-client in /home/matt/bin/venvs/DemoOpenSourceDirectionsPodcast-9z2RnPy8/lib/python3.6/site-packages (from ipykernel>=4.7->ipympl->itkwidgets>=0.16.1) (5.2.4)\n",
      "Requirement already satisfied: pycparser in /home/matt/bin/venvs/DemoOpenSourceDirectionsPodcast-9z2RnPy8/lib/python3.6/site-packages (from cffi>=1.11->zstandard->itkwidgets>=0.16.1) (2.19)\n",
      "Requirement already satisfied: jupyter-core in /home/matt/bin/venvs/DemoOpenSourceDirectionsPodcast-9z2RnPy8/lib/python3.6/site-packages (from nbformat>=4.2.0->ipywidgets>=7.4.0->itkwidgets>=0.16.1) (4.4.0)\n",
      "Requirement already satisfied: ipython-genutils in /home/matt/bin/venvs/DemoOpenSourceDirectionsPodcast-9z2RnPy8/lib/python3.6/site-packages (from nbformat>=4.2.0->ipywidgets>=7.4.0->itkwidgets>=0.16.1) (0.2.0)\n",
      "Requirement already satisfied: jsonschema!=2.5.0,>=2.4 in /home/matt/bin/venvs/DemoOpenSourceDirectionsPodcast-9z2RnPy8/lib/python3.6/site-packages (from nbformat>=4.2.0->ipywidgets>=7.4.0->itkwidgets>=0.16.1) (2.6.0)\n",
      "Requirement already satisfied: pexpect; sys_platform != \"win32\" in /home/matt/bin/venvs/DemoOpenSourceDirectionsPodcast-9z2RnPy8/lib/python3.6/site-packages (from ipython>=4.0.0; python_version >= \"3.3\"->ipywidgets>=7.4.0->itkwidgets>=0.16.1) (4.6.0)\n",
      "Requirement already satisfied: pickleshare in /home/matt/bin/venvs/DemoOpenSourceDirectionsPodcast-9z2RnPy8/lib/python3.6/site-packages (from ipython>=4.0.0; python_version >= \"3.3\"->ipywidgets>=7.4.0->itkwidgets>=0.16.1) (0.7.5)\n",
      "Requirement already satisfied: setuptools>=18.5 in /home/matt/bin/venvs/DemoOpenSourceDirectionsPodcast-9z2RnPy8/lib/python3.6/site-packages (from ipython>=4.0.0; python_version >= \"3.3\"->ipywidgets>=7.4.0->itkwidgets>=0.16.1) (40.8.0)\n",
      "Requirement already satisfied: jedi>=0.10 in /home/matt/bin/venvs/DemoOpenSourceDirectionsPodcast-9z2RnPy8/lib/python3.6/site-packages (from ipython>=4.0.0; python_version >= \"3.3\"->ipywidgets>=7.4.0->itkwidgets>=0.16.1) (0.13.2)\n",
      "Requirement already satisfied: backcall in /home/matt/bin/venvs/DemoOpenSourceDirectionsPodcast-9z2RnPy8/lib/python3.6/site-packages (from ipython>=4.0.0; python_version >= \"3.3\"->ipywidgets>=7.4.0->itkwidgets>=0.16.1) (0.1.0)\n",
      "Requirement already satisfied: decorator in /home/matt/bin/venvs/DemoOpenSourceDirectionsPodcast-9z2RnPy8/lib/python3.6/site-packages (from ipython>=4.0.0; python_version >= \"3.3\"->ipywidgets>=7.4.0->itkwidgets>=0.16.1) (4.3.2)\n",
      "Requirement already satisfied: prompt-toolkit<2.1.0,>=2.0.0 in /home/matt/bin/venvs/DemoOpenSourceDirectionsPodcast-9z2RnPy8/lib/python3.6/site-packages (from ipython>=4.0.0; python_version >= \"3.3\"->ipywidgets>=7.4.0->itkwidgets>=0.16.1) (2.0.9)\n",
      "Requirement already satisfied: pygments in /home/matt/bin/venvs/DemoOpenSourceDirectionsPodcast-9z2RnPy8/lib/python3.6/site-packages (from ipython>=4.0.0; python_version >= \"3.3\"->ipywidgets>=7.4.0->itkwidgets>=0.16.1) (2.3.1)\n",
      "Requirement already satisfied: notebook>=4.4.1 in /home/matt/bin/venvs/DemoOpenSourceDirectionsPodcast-9z2RnPy8/lib/python3.6/site-packages (from widgetsnbextension~=3.4.0->ipywidgets>=7.4.0->itkwidgets>=0.16.1) (5.7.4)\n",
      "Requirement already satisfied: pyzmq>=13 in /home/matt/bin/venvs/DemoOpenSourceDirectionsPodcast-9z2RnPy8/lib/python3.6/site-packages (from jupyter-client->ipykernel>=4.7->ipympl->itkwidgets>=0.16.1) (18.0.0)\n",
      "Requirement already satisfied: ptyprocess>=0.5 in /home/matt/bin/venvs/DemoOpenSourceDirectionsPodcast-9z2RnPy8/lib/python3.6/site-packages (from pexpect; sys_platform != \"win32\"->ipython>=4.0.0; python_version >= \"3.3\"->ipywidgets>=7.4.0->itkwidgets>=0.16.1) (0.6.0)\n",
      "Requirement already satisfied: parso>=0.3.0 in /home/matt/bin/venvs/DemoOpenSourceDirectionsPodcast-9z2RnPy8/lib/python3.6/site-packages (from jedi>=0.10->ipython>=4.0.0; python_version >= \"3.3\"->ipywidgets>=7.4.0->itkwidgets>=0.16.1) (0.3.4)\n"
     ]
    },
    {
     "name": "stdout",
     "output_type": "stream",
     "text": [
      "Requirement already satisfied: wcwidth in /home/matt/bin/venvs/DemoOpenSourceDirectionsPodcast-9z2RnPy8/lib/python3.6/site-packages (from prompt-toolkit<2.1.0,>=2.0.0->ipython>=4.0.0; python_version >= \"3.3\"->ipywidgets>=7.4.0->itkwidgets>=0.16.1) (0.1.7)\n",
      "Requirement already satisfied: Send2Trash in /home/matt/bin/venvs/DemoOpenSourceDirectionsPodcast-9z2RnPy8/lib/python3.6/site-packages (from notebook>=4.4.1->widgetsnbextension~=3.4.0->ipywidgets>=7.4.0->itkwidgets>=0.16.1) (1.5.0)\n",
      "Requirement already satisfied: nbconvert in /home/matt/bin/venvs/DemoOpenSourceDirectionsPodcast-9z2RnPy8/lib/python3.6/site-packages (from notebook>=4.4.1->widgetsnbextension~=3.4.0->ipywidgets>=7.4.0->itkwidgets>=0.16.1) (5.4.1)\n",
      "Requirement already satisfied: jinja2 in /home/matt/bin/venvs/DemoOpenSourceDirectionsPodcast-9z2RnPy8/lib/python3.6/site-packages (from notebook>=4.4.1->widgetsnbextension~=3.4.0->ipywidgets>=7.4.0->itkwidgets>=0.16.1) (2.10)\n",
      "Requirement already satisfied: terminado>=0.8.1 in /home/matt/bin/venvs/DemoOpenSourceDirectionsPodcast-9z2RnPy8/lib/python3.6/site-packages (from notebook>=4.4.1->widgetsnbextension~=3.4.0->ipywidgets>=7.4.0->itkwidgets>=0.16.1) (0.8.1)\n",
      "Requirement already satisfied: prometheus-client in /home/matt/bin/venvs/DemoOpenSourceDirectionsPodcast-9z2RnPy8/lib/python3.6/site-packages (from notebook>=4.4.1->widgetsnbextension~=3.4.0->ipywidgets>=7.4.0->itkwidgets>=0.16.1) (0.6.0)\n",
      "Requirement already satisfied: pandocfilters>=1.4.1 in /home/matt/bin/venvs/DemoOpenSourceDirectionsPodcast-9z2RnPy8/lib/python3.6/site-packages (from nbconvert->notebook>=4.4.1->widgetsnbextension~=3.4.0->ipywidgets>=7.4.0->itkwidgets>=0.16.1) (1.4.2)\n",
      "Requirement already satisfied: mistune>=0.8.1 in /home/matt/bin/venvs/DemoOpenSourceDirectionsPodcast-9z2RnPy8/lib/python3.6/site-packages (from nbconvert->notebook>=4.4.1->widgetsnbextension~=3.4.0->ipywidgets>=7.4.0->itkwidgets>=0.16.1) (0.8.4)\n",
      "Requirement already satisfied: testpath in /home/matt/bin/venvs/DemoOpenSourceDirectionsPodcast-9z2RnPy8/lib/python3.6/site-packages (from nbconvert->notebook>=4.4.1->widgetsnbextension~=3.4.0->ipywidgets>=7.4.0->itkwidgets>=0.16.1) (0.4.2)\n",
      "Requirement already satisfied: defusedxml in /home/matt/bin/venvs/DemoOpenSourceDirectionsPodcast-9z2RnPy8/lib/python3.6/site-packages (from nbconvert->notebook>=4.4.1->widgetsnbextension~=3.4.0->ipywidgets>=7.4.0->itkwidgets>=0.16.1) (0.5.0)\n",
      "Requirement already satisfied: entrypoints>=0.2.2 in /home/matt/bin/venvs/DemoOpenSourceDirectionsPodcast-9z2RnPy8/lib/python3.6/site-packages (from nbconvert->notebook>=4.4.1->widgetsnbextension~=3.4.0->ipywidgets>=7.4.0->itkwidgets>=0.16.1) (0.3)\n",
      "Requirement already satisfied: bleach in /home/matt/bin/venvs/DemoOpenSourceDirectionsPodcast-9z2RnPy8/lib/python3.6/site-packages (from nbconvert->notebook>=4.4.1->widgetsnbextension~=3.4.0->ipywidgets>=7.4.0->itkwidgets>=0.16.1) (3.1.0)\n",
      "Requirement already satisfied: MarkupSafe>=0.23 in /home/matt/bin/venvs/DemoOpenSourceDirectionsPodcast-9z2RnPy8/lib/python3.6/site-packages (from jinja2->notebook>=4.4.1->widgetsnbextension~=3.4.0->ipywidgets>=7.4.0->itkwidgets>=0.16.1) (1.1.0)\n",
      "Requirement already satisfied: webencodings in /home/matt/bin/venvs/DemoOpenSourceDirectionsPodcast-9z2RnPy8/lib/python3.6/site-packages (from bleach->nbconvert->notebook>=4.4.1->widgetsnbextension~=3.4.0->ipywidgets>=7.4.0->itkwidgets>=0.16.1) (0.5.1)\n"
     ]
    }
   ],
   "source": [
    "# Install dependencies\n",
    "import sys\n",
    "!{sys.executable} -m pip install 'itk>=5.0rc1' 'itkwidgets>=0.16.1'"
   ]
  },
  {
   "cell_type": "code",
   "execution_count": 2,
   "metadata": {},
   "outputs": [],
   "source": [
    "import itk\n",
    "import numpy as np\n",
    "from itkwidgets import view"
   ]
  },
  {
   "cell_type": "code",
   "execution_count": 5,
   "metadata": {
    "scrolled": false
   },
   "outputs": [
    {
     "data": {
      "application/vnd.jupyter.widget-view+json": {
       "model_id": "1762f96c8bf64affa1986e684758ad08",
       "version_major": 2,
       "version_minor": 0
      },
      "text/plain": [
       "Viewer(cmap='Grayscale', gradient_opacity=0.22, mode='x', rendered_image=<itkImagePython.itkImageF3; proxy of …"
      ]
     },
     "metadata": {},
     "output_type": "display_data"
    }
   ],
   "source": [
    "inputFileName = '1.nrrd'\n",
    "image = itk.imread(inputFileName, itk.ctype('float'))\n",
    "view(image,cmap=\"Grayscale\", ui_collapsed=True, mode=\"x\")"
   ]
  },
  {
   "cell_type": "code",
   "execution_count": 6,
   "metadata": {},
   "outputs": [
    {
     "data": {
      "application/vnd.jupyter.widget-view+json": {
       "model_id": "c41e9fee21b54097ac6efe756944d9bc",
       "version_major": 2,
       "version_minor": 0
      },
      "text/plain": [
       "Viewer(cmap='Grayscale', gradient_opacity=0.22, rendered_image=<itkImagePython.itkImageF3; proxy of <Swig Obje…"
      ]
     },
     "metadata": {},
     "output_type": "display_data"
    }
   ],
   "source": [
    "# Note that source image includes the soft tissues of the cheeks and skin\n",
    "view(image, cmap=\"Grayscale\")"
   ]
  },
  {
   "cell_type": "code",
   "execution_count": 7,
   "metadata": {
    "scrolled": true
   },
   "outputs": [
    {
     "data": {
      "application/vnd.jupyter.widget-view+json": {
       "model_id": "e04c367832404d1f814225a974fda625",
       "version_major": 2,
       "version_minor": 0
      },
      "text/plain": [
       "Viewer(cmap='Grayscale', gradient_opacity=0.22, mode='x', rendered_image=<itkImagePython.itkImageF3; proxy of …"
      ]
     },
     "metadata": {},
     "output_type": "display_data"
    }
   ],
   "source": [
    "smoothed = itk.curvature_anisotropic_diffusion_image_filter(image,\n",
    "                                                            time_step=0.0125,\n",
    "                                                            number_of_iterations=5,\n",
    "                                                            conductance_parameter=9.0)\n",
    "view(smoothed, cmap=\"Grayscale\", mode=\"x\")"
   ]
  },
  {
   "cell_type": "code",
   "execution_count": 9,
   "metadata": {
    "scrolled": true
   },
   "outputs": [
    {
     "data": {
      "application/vnd.jupyter.widget-view+json": {
       "model_id": "1321de1de4ab44fb9e32bdb82e6df540",
       "version_major": 2,
       "version_minor": 0
      },
      "text/plain": [
       "Viewer(cmap='Grayscale', gradient_opacity=0.22, mode='x', rendered_image=<itkImagePython.itkImageF3; proxy of …"
      ]
     },
     "metadata": {},
     "output_type": "display_data"
    }
   ],
   "source": [
    "# Compute edge image\n",
    "gradient_magnitude = itk.gradient_magnitude_recursive_gaussian_image_filter(smoothed,\n",
    "                                                                            sigma=0.4)\n",
    "view(gradient_magnitude, ui_collapsed=True, cmap=\"Grayscale\",mode=\"x\")"
   ]
  },
  {
   "cell_type": "code",
   "execution_count": 16,
   "metadata": {},
   "outputs": [
    {
     "data": {
      "application/vnd.jupyter.widget-view+json": {
       "model_id": "2cfd2bc0ca044f36bec5d3b592639177",
       "version_major": 2,
       "version_minor": 0
      },
      "text/plain": [
       "Viewer(cmap='Grayscale', gradient_opacity=0.22, rendered_image=<itkImagePython.itkImageSS3; proxy of <Swig Obj…"
      ]
     },
     "metadata": {},
     "output_type": "display_data"
    }
   ],
   "source": [
    "# Segment the bone only with a 3D region-growing algorithm\n",
    "confidence_connected = itk.ConfidenceConnectedImageFilter.New(gradient_magnitude,\n",
    "                                                              multiplier=2.5, \n",
    "                                                              number_of_iterations=7,\n",
    "                                                              initial_neighborhood_radius=2,\n",
    "                                                              replace_value=255)\n",
    "confidence_connected.AddSeed([136, 61, 61])\n",
    "confidence_connected.AddSeed([195, 132, 87])\n",
    "confidence_connected.AddSeed([228, 163, 184])\n",
    "confidence_connected.AddSeed([55, 154, 132])\n",
    "confidence_connected.AddSeed([87, 78, 72])\n",
    "confidence_connected.Update()\n",
    "\n",
    "inverted = itk.InvertIntensityImageFilter(confidence_connected)\n",
    "view(inverted, ui_collapsed=True, cmap=\"Grayscale\")"
   ]
  },
  {
   "cell_type": "code",
   "execution_count": null,
   "metadata": {},
   "outputs": [],
   "source": []
  }
 ],
 "metadata": {
  "kernelspec": {
   "display_name": "Python 2",
   "language": "python",
   "name": "python2"
  },
  "language_info": {
   "codemirror_mode": {
    "name": "ipython",
    "version": 3
   },
   "file_extension": ".py",
   "mimetype": "text/x-python",
   "name": "python",
   "nbconvert_exporter": "python",
   "pygments_lexer": "ipython3",
   "version": "3.6.7"
  }
 },
 "nbformat": 4,
 "nbformat_minor": 2
}
