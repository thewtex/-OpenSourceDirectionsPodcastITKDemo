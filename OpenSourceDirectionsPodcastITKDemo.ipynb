{
 "cells": [
  {
   "cell_type": "code",
   "execution_count": null,
   "metadata": {},
   "outputs": [],
   "source": [
    "# Install dependencies\n",
    "import sys\n",
    "!{sys.executable} -m pip install 'itk>=5.0rc1' 'itkwidgets>=0.16.1'"
   ]
  },
  {
   "cell_type": "code",
   "execution_count": 2,
   "metadata": {},
   "outputs": [],
   "source": [
    "import itk\n",
    "import numpy as np\n",
    "from itkwidgets import view"
   ]
  },
  {
   "cell_type": "code",
   "execution_count": 5,
   "metadata": {
    "scrolled": false
   },
   "outputs": [
    {
     "data": {
      "application/vnd.jupyter.widget-view+json": {
       "model_id": "1762f96c8bf64affa1986e684758ad08",
       "version_major": 2,
       "version_minor": 0
      },
      "text/plain": [
       "Viewer(cmap='Grayscale', gradient_opacity=0.22, mode='x', rendered_image=<itkImagePython.itkImageF3; proxy of …"
      ]
     },
     "metadata": {},
     "output_type": "display_data"
    }
   ],
   "source": [
    "inputFileName = '1.nrrd'\n",
    "image = itk.imread(inputFileName, itk.ctype('float'))\n",
    "view(image,cmap=\"Grayscale\", ui_collapsed=True, mode=\"x\")"
   ]
  },
  {
   "cell_type": "code",
   "execution_count": 6,
   "metadata": {},
   "outputs": [
    {
     "data": {
      "application/vnd.jupyter.widget-view+json": {
       "model_id": "c41e9fee21b54097ac6efe756944d9bc",
       "version_major": 2,
       "version_minor": 0
      },
      "text/plain": [
       "Viewer(cmap='Grayscale', gradient_opacity=0.22, rendered_image=<itkImagePython.itkImageF3; proxy of <Swig Obje…"
      ]
     },
     "metadata": {},
     "output_type": "display_data"
    }
   ],
   "source": [
    "# Note that source image includes the soft tissues of the cheeks and skin\n",
    "view(image, cmap=\"Grayscale\")"
   ]
  },
  {
   "cell_type": "code",
   "execution_count": 7,
   "metadata": {
    "scrolled": true
   },
   "outputs": [
    {
     "data": {
      "application/vnd.jupyter.widget-view+json": {
       "model_id": "e04c367832404d1f814225a974fda625",
       "version_major": 2,
       "version_minor": 0
      },
      "text/plain": [
       "Viewer(cmap='Grayscale', gradient_opacity=0.22, mode='x', rendered_image=<itkImagePython.itkImageF3; proxy of …"
      ]
     },
     "metadata": {},
     "output_type": "display_data"
    }
   ],
   "source": [
    "smoothed = itk.curvature_anisotropic_diffusion_image_filter(image,\n",
    "                                                            time_step=0.0125,\n",
    "                                                            number_of_iterations=5,\n",
    "                                                            conductance_parameter=9.0)\n",
    "view(smoothed, cmap=\"Grayscale\", mode=\"x\")"
   ]
  },
  {
   "cell_type": "code",
   "execution_count": 9,
   "metadata": {
    "scrolled": true
   },
   "outputs": [
    {
     "data": {
      "application/vnd.jupyter.widget-view+json": {
       "model_id": "1321de1de4ab44fb9e32bdb82e6df540",
       "version_major": 2,
       "version_minor": 0
      },
      "text/plain": [
       "Viewer(cmap='Grayscale', gradient_opacity=0.22, mode='x', rendered_image=<itkImagePython.itkImageF3; proxy of …"
      ]
     },
     "metadata": {},
     "output_type": "display_data"
    }
   ],
   "source": [
    "# Compute edge image\n",
    "gradient_magnitude = itk.gradient_magnitude_recursive_gaussian_image_filter(smoothed,\n",
    "                                                                            sigma=0.4)\n",
    "view(gradient_magnitude, ui_collapsed=True, cmap=\"Grayscale\",mode=\"x\")"
   ]
  },
  {
   "cell_type": "code",
   "execution_count": 16,
   "metadata": {},
   "outputs": [
    {
     "data": {
      "application/vnd.jupyter.widget-view+json": {
       "model_id": "2cfd2bc0ca044f36bec5d3b592639177",
       "version_major": 2,
       "version_minor": 0
      },
      "text/plain": [
       "Viewer(cmap='Grayscale', gradient_opacity=0.22, rendered_image=<itkImagePython.itkImageSS3; proxy of <Swig Obj…"
      ]
     },
     "metadata": {},
     "output_type": "display_data"
    }
   ],
   "source": [
    "# Segment the bone only with a 3D region-growing algorithm\n",
    "confidence_connected = itk.ConfidenceConnectedImageFilter.New(gradient_magnitude,\n",
    "                                                              multiplier=2.5, \n",
    "                                                              number_of_iterations=7,\n",
    "                                                              initial_neighborhood_radius=2,\n",
    "                                                              replace_value=255)\n",
    "confidence_connected.AddSeed([136, 61, 61])\n",
    "confidence_connected.AddSeed([195, 132, 87])\n",
    "confidence_connected.AddSeed([228, 163, 184])\n",
    "confidence_connected.AddSeed([55, 154, 132])\n",
    "confidence_connected.AddSeed([87, 78, 72])\n",
    "confidence_connected.Update()\n",
    "\n",
    "inverted = itk.InvertIntensityImageFilter(confidence_connected)\n",
    "view(inverted, ui_collapsed=True, cmap=\"Grayscale\")"
   ]
  },
  {
   "cell_type": "code",
   "execution_count": null,
   "metadata": {},
   "outputs": [],
   "source": []
  }
 ],
 "metadata": {
  "kernelspec": {
   "display_name": "Python 2",
   "language": "python",
   "name": "python2"
  },
  "language_info": {
   "codemirror_mode": {
    "name": "ipython",
    "version": 3
   },
   "file_extension": ".py",
   "mimetype": "text/x-python",
   "name": "python",
   "nbconvert_exporter": "python",
   "pygments_lexer": "ipython3",
   "version": "3.6.7"
  }
 },
 "nbformat": 4,
 "nbformat_minor": 2
}
