{
 "cells": [
  {
   "cell_type": "code",
   "execution_count": 47,
   "metadata": {},
   "outputs": [],
   "source": [
    "import itkConfig\n",
    "itkConfig.LazyLoading = False\n",
    "import itk\n",
    "\n",
    "import sys\n",
    "import numpy as np\n",
    "from itkwidgets import view"
   ]
  },
  {
   "cell_type": "code",
   "execution_count": 48,
   "metadata": {},
   "outputs": [],
   "source": [
    "Dimension = 3\n",
    "InputPixelType = itk.F\n",
    "OutputPixelType = itk.UC\n",
    "ImageType = itk.Image[InputPixelType,Dimension]\n",
    "UCImageType = itk.Image[OutputPixelType,Dimension]"
   ]
  },
  {
   "cell_type": "code",
   "execution_count": 49,
   "metadata": {
    "scrolled": false
   },
   "outputs": [
    {
     "data": {
      "application/vnd.jupyter.widget-view+json": {
       "model_id": "90b56c2ce0244fc19674b7a470cacce3",
       "version_major": 2,
       "version_minor": 0
      },
      "text/plain": [
       "Vmlld2VyKGNtYXA9dSdHcmF5c2NhbGUnLCBtb2RlPXUneCcsIHJlbmRlcmVkX2ltYWdlPTxpdGtJbWFnZVB5dGhvbi5pdGtJbWFnZUYzOyBwcm94eSBvZiA8U3dpZyBPYmplY3Qgb2YgdHlwZSDigKY=\n"
      ]
     },
     "metadata": {},
     "output_type": "display_data"
    }
   ],
   "source": [
    "inputFileName = '/work/Projects/ToothSegmentationProject/code/SegmentWithGeodesicActiveContourLevelSet/inputScan.nrrd'\n",
    "image = itk.imread(inputFileName, InputPixelType)\n",
    "view(image,cmap=\"Grayscale\", ui_collapsed=\"True\", mode=\"x\")"
   ]
  },
  {
   "cell_type": "code",
   "execution_count": 50,
   "metadata": {},
   "outputs": [
    {
     "data": {
      "application/vnd.jupyter.widget-view+json": {
       "model_id": "6f01e8431c984cee9d18582b57461067",
       "version_major": 2,
       "version_minor": 0
      },
      "text/plain": [
       "Vmlld2VyKGNtYXA9dSdHcmF5c2NhbGUnLCByZW5kZXJlZF9pbWFnZT08aXRrSW1hZ2VQeXRob24uaXRrSW1hZ2VGMzsgcHJveHkgb2YgPFN3aWcgT2JqZWN0IG9mIHR5cGUgJ2l0a0ltYWdlRjPigKY=\n"
      ]
     },
     "metadata": {},
     "output_type": "display_data"
    }
   ],
   "source": [
    "# Note that source image includes the soft tissues of the cheeks and skin\n",
    "view(image,cmap=\"Grayscale\")"
   ]
  },
  {
   "cell_type": "code",
   "execution_count": 51,
   "metadata": {
    "scrolled": true
   },
   "outputs": [
    {
     "data": {
      "application/vnd.jupyter.widget-view+json": {
       "model_id": "3c8c99cf83174abebb7891e9112e6ddc",
       "version_major": 2,
       "version_minor": 0
      },
      "text/plain": [
       "Vmlld2VyKGNtYXA9dSdHcmF5c2NhbGUnLCBtb2RlPXUneCcsIHJlbmRlcmVkX2ltYWdlPTxpdGtJbWFnZVB5dGhvbi5pdGtJbWFnZUYzOyBwcm94eSBvZiA8U3dpZyBPYmplY3Qgb2YgdHlwZSDigKY=\n"
      ]
     },
     "metadata": {},
     "output_type": "display_data"
    }
   ],
   "source": [
    "smoothing=itk.CurvatureAnisotropicDiffusionImageFilter(image, TimeStep=0.0125, NumberOfIterations=5, ConductanceParameter=9.0)\n",
    "view(smoothing,cmap=\"Grayscale\",mode=\"x\")"
   ]
  },
  {
   "cell_type": "code",
   "execution_count": 52,
   "metadata": {
    "scrolled": true
   },
   "outputs": [
    {
     "data": {
      "application/vnd.jupyter.widget-view+json": {
       "model_id": "5c99fe48c18d4919a51bf5e02cc7240a",
       "version_major": 2,
       "version_minor": 0
      },
      "text/plain": [
       "Vmlld2VyKGNtYXA9dSdHcmF5c2NhbGUnLCBtb2RlPXUneCcsIHJlbmRlcmVkX2ltYWdlPTxpdGtJbWFnZVB5dGhvbi5pdGtJbWFnZUYzOyBwcm94eSBvZiA8U3dpZyBPYmplY3Qgb2YgdHlwZSDigKY=\n"
      ]
     },
     "metadata": {},
     "output_type": "display_data"
    }
   ],
   "source": [
    "# Compute edge image\n",
    "gradientMagnitude=itk.GradientMagnitudeRecursiveGaussianImageFilter(smoothing, Sigma=0.4)\n",
    "view(gradientMagnitude,ui_collapsed=\"True\", cmap=\"Grayscale\",mode=\"x\")"
   ]
  },
  {
   "cell_type": "code",
   "execution_count": null,
   "metadata": {},
   "outputs": [],
   "source": [
    "# Segment the bone only with a 3D region-growing algorithm\n",
    "confidence_connected = itk.ConfidenceConnectedImageFilter.New(gradientMagnitude, Multiplier=2.5, \n",
    "                                                              NumberOfIterations=7, InitialNeighborhoodRadius=2,\n",
    "                                                              ReplaceValue=255)\n",
    "SeedType = itk.Index[Dimension]\n",
    "seed1 = SeedType()\n",
    "\n",
    "seed1[0] = 136\n",
    "seed1[1] = 61\n",
    "seed1[2] = 61\n",
    "confidence_connected.AddSeed(seed1)\n",
    "\n",
    "seed2 = SeedType()\n",
    "seed2[0] = 195\n",
    "seed2[1] = 132\n",
    "seed2[2] = 87\n",
    "confidence_connected.AddSeed(seed2)\n",
    "\n",
    "seed3 = SeedType()\n",
    "seed3[0] = 228\n",
    "seed3[1] = 163\n",
    "seed3[2] = 184\n",
    "confidence_connected.AddSeed(seed3)\n",
    "\n",
    "seed4 = SeedType()\n",
    "seed4[0] = 55\n",
    "seed4[1] = 154\n",
    "seed4[2] = 132\n",
    "confidence_connected.AddSeed(seed4)\n",
    "\n",
    "seed5 = SeedType()\n",
    "seed5[0] = 87\n",
    "seed5[1] = 78\n",
    "seed5[2] = 72\n",
    "confidence_connected.AddSeed(seed5)\n",
    "\n",
    "confidence_connected.Update()\n",
    "\n",
    "invert = itk.InvertIntensityImageFilter(confidence_connected)\n",
    "view(invert,ui_collapsed=\"True\", cmap=\"Grayscale\")"
   ]
  }
 ],
 "metadata": {
  "kernelspec": {
   "display_name": "Python 2",
   "language": "python",
   "name": "python2"
  },
  "language_info": {
   "codemirror_mode": {
    "name": "ipython",
    "version": 2
   },
   "file_extension": ".py",
   "mimetype": "text/x-python",
   "name": "python",
   "nbconvert_exporter": "python",
   "pygments_lexer": "ipython2",
   "version": "2.7.12"
  }
 },
 "nbformat": 4,
 "nbformat_minor": 2
}
